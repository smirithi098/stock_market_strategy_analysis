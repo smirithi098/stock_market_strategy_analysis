{
 "cells": [
  {
   "cell_type": "code",
   "execution_count": 3,
   "outputs": [],
   "source": [
    "from  youtube_transcript_api import YouTubeTranscriptApi as yt\n",
    "import pandas as pd"
   ],
   "metadata": {
    "collapsed": false,
    "ExecuteTime": {
     "end_time": "2023-10-28T07:12:23.073395400Z",
     "start_time": "2023-10-28T07:12:21.688374500Z"
    }
   }
  },
  {
   "cell_type": "code",
   "execution_count": 2,
   "outputs": [],
   "source": [
    "video_ids = ['PLfJkb5Ydbw', 'pCmJ8wsAS_w', 'TQMayZS9o1U', 'rf_EQvubKlk', 'hh3BKTFE1dc']"
   ],
   "metadata": {
    "collapsed": false,
    "ExecuteTime": {
     "end_time": "2023-10-28T07:02:07.582460800Z",
     "start_time": "2023-10-28T07:02:07.565637300Z"
    }
   }
  },
  {
   "cell_type": "code",
   "execution_count": 6,
   "outputs": [],
   "source": [
    "video_details = {'video_id': [], 'transcript': []}\n",
    "\n",
    "for i in video_ids:\n",
    "    transcript = yt.get_transcript(i)\n",
    "    video_details['video_id'].append(i)\n",
    "    final_script = ''\n",
    "\n",
    "    for t in transcript:\n",
    "        final_script += f\"{t['text']} \"\n",
    "\n",
    "    video_details['transcript'].append(final_script)"
   ],
   "metadata": {
    "collapsed": false,
    "ExecuteTime": {
     "end_time": "2023-10-28T07:13:31.155185100Z",
     "start_time": "2023-10-28T07:13:28.064403Z"
    }
   }
  },
  {
   "cell_type": "code",
   "execution_count": 9,
   "outputs": [],
   "source": [
    "transcript_df = pd.DataFrame(data=video_details)\n",
    "transcript_df.to_csv(\"S:/Dissertation 2023/Stock market analysis/stock_market_strategy_analysis/data_files/transcript.csv\", header=True)"
   ],
   "metadata": {
    "collapsed": false,
    "ExecuteTime": {
     "end_time": "2023-10-28T07:19:48.088558700Z",
     "start_time": "2023-10-28T07:19:48.057139Z"
    }
   }
  },
  {
   "cell_type": "code",
   "execution_count": null,
   "outputs": [],
   "source": [],
   "metadata": {
    "collapsed": false
   }
  },
  {
   "cell_type": "code",
   "execution_count": null,
   "outputs": [],
   "source": [],
   "metadata": {
    "collapsed": false
   }
  },
  {
   "cell_type": "code",
   "execution_count": null,
   "outputs": [],
   "source": [],
   "metadata": {
    "collapsed": false
   }
  },
  {
   "cell_type": "code",
   "execution_count": null,
   "outputs": [],
   "source": [],
   "metadata": {
    "collapsed": false
   }
  }
 ],
 "metadata": {
  "kernelspec": {
   "display_name": "Python 3",
   "language": "python",
   "name": "python3"
  },
  "language_info": {
   "codemirror_mode": {
    "name": "ipython",
    "version": 2
   },
   "file_extension": ".py",
   "mimetype": "text/x-python",
   "name": "python",
   "nbconvert_exporter": "python",
   "pygments_lexer": "ipython2",
   "version": "2.7.6"
  }
 },
 "nbformat": 4,
 "nbformat_minor": 0
}
