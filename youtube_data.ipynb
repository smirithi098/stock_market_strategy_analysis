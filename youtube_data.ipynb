{
 "cells": [
  {
   "cell_type": "code",
   "execution_count": 1,
   "outputs": [],
   "source": [
    "import string\n",
    "\n",
    "from  youtube_transcript_api import YouTubeTranscriptApi as yt\n",
    "import pandas as pd"
   ],
   "metadata": {
    "collapsed": false,
    "ExecuteTime": {
     "end_time": "2023-10-31T15:59:45.769478900Z",
     "start_time": "2023-10-31T15:59:44.039075500Z"
    }
   }
  },
  {
   "cell_type": "code",
   "execution_count": 2,
   "outputs": [],
   "source": [
    "video_ids = ['Dywaz0H7U84', 'pCmJ8wsAS_w', 'TQMayZS9o1U', 'rf_EQvubKlk', 'hh3BKTFE1dc']"
   ],
   "metadata": {
    "collapsed": false,
    "ExecuteTime": {
     "end_time": "2023-10-31T15:59:48.750730700Z",
     "start_time": "2023-10-31T15:59:48.731633Z"
    }
   }
  },
  {
   "cell_type": "code",
   "execution_count": 3,
   "outputs": [],
   "source": [
    "video_details = {'video_id': [], 'transcript': []}\n",
    "\n",
    "for i in video_ids:\n",
    "    transcript = yt.get_transcript(i)\n",
    "    video_details['video_id'].append(i)\n",
    "    final_script = ''\n",
    "\n",
    "    for t in transcript:\n",
    "        final_script += f\"{t['text']} \"\n",
    "\n",
    "    video_details['transcript'].append(final_script)"
   ],
   "metadata": {
    "collapsed": false,
    "ExecuteTime": {
     "end_time": "2023-10-31T15:59:56.199417700Z",
     "start_time": "2023-10-31T15:59:51.186936100Z"
    }
   }
  },
  {
   "cell_type": "code",
   "execution_count": 4,
   "outputs": [],
   "source": [
    "transcript_df = pd.DataFrame(data=video_details)"
   ],
   "metadata": {
    "collapsed": false,
    "ExecuteTime": {
     "end_time": "2023-10-31T16:00:14.419777400Z",
     "start_time": "2023-10-31T16:00:14.415934200Z"
    }
   }
  },
  {
   "cell_type": "code",
   "execution_count": null,
   "outputs": [],
   "source": [
    "transcript_df.to_csv(\"S:/Dissertation 2023/Stock market analysis/stock_market_strategy_analysis/data_files/transcript.csv\", header=True)"
   ],
   "metadata": {
    "collapsed": false
   }
  },
  {
   "cell_type": "code",
   "execution_count": 5,
   "outputs": [
    {
     "data": {
      "text/plain": "      video_id                                         transcript\n0  Dywaz0H7U84  hello everyone welcome to tradeline in today's...\n1  pCmJ8wsAS_w  Bollinger Bands\\nIn this video, I m going to s...\n2  TQMayZS9o1U  if you want to learn how to use the RSI indica...\n3  rf_EQvubKlk  MACD Strategy\\nThis MACD strategy I m   about ...\n4  hh3BKTFE1dc  in this video i'm revealing a simple and profi...",
      "text/html": "<div>\n<style scoped>\n    .dataframe tbody tr th:only-of-type {\n        vertical-align: middle;\n    }\n\n    .dataframe tbody tr th {\n        vertical-align: top;\n    }\n\n    .dataframe thead th {\n        text-align: right;\n    }\n</style>\n<table border=\"1\" class=\"dataframe\">\n  <thead>\n    <tr style=\"text-align: right;\">\n      <th></th>\n      <th>video_id</th>\n      <th>transcript</th>\n    </tr>\n  </thead>\n  <tbody>\n    <tr>\n      <th>0</th>\n      <td>Dywaz0H7U84</td>\n      <td>hello everyone welcome to tradeline in today's...</td>\n    </tr>\n    <tr>\n      <th>1</th>\n      <td>pCmJ8wsAS_w</td>\n      <td>Bollinger Bands\\nIn this video, I m going to s...</td>\n    </tr>\n    <tr>\n      <th>2</th>\n      <td>TQMayZS9o1U</td>\n      <td>if you want to learn how to use the RSI indica...</td>\n    </tr>\n    <tr>\n      <th>3</th>\n      <td>rf_EQvubKlk</td>\n      <td>MACD Strategy\\nThis MACD strategy I m   about ...</td>\n    </tr>\n    <tr>\n      <th>4</th>\n      <td>hh3BKTFE1dc</td>\n      <td>in this video i'm revealing a simple and profi...</td>\n    </tr>\n  </tbody>\n</table>\n</div>"
     },
     "execution_count": 5,
     "metadata": {},
     "output_type": "execute_result"
    }
   ],
   "source": [
    "transcript_df.head()"
   ],
   "metadata": {
    "collapsed": false,
    "ExecuteTime": {
     "end_time": "2023-10-31T16:00:22.252148900Z",
     "start_time": "2023-10-31T16:00:22.235637500Z"
    }
   }
  },
  {
   "cell_type": "code",
   "execution_count": 33,
   "outputs": [],
   "source": [
    "from nltk.corpus import stopwords\n",
    "from nltk import sent_tokenize, word_tokenize, PorterStemmer\n",
    "import numpy as np\n",
    "import networkx as nx\n",
    "import re\n",
    "import string"
   ],
   "metadata": {
    "collapsed": false,
    "ExecuteTime": {
     "end_time": "2023-10-31T18:24:39.590507600Z",
     "start_time": "2023-10-31T18:24:39.568457400Z"
    }
   }
  },
  {
   "cell_type": "code",
   "execution_count": 28,
   "outputs": [],
   "source": [
    "def clean_transcript(text):\n",
    "    text = re.sub(r'(\\xa0|\\n)', ' ', text)\n",
    "    return text"
   ],
   "metadata": {
    "collapsed": false,
    "ExecuteTime": {
     "end_time": "2023-10-31T17:43:23.494559100Z",
     "start_time": "2023-10-31T17:43:23.477863900Z"
    }
   }
  },
  {
   "cell_type": "code",
   "execution_count": 29,
   "outputs": [],
   "source": [
    "transformed_scripts = []\n",
    "for script in transcript_df['transcript']:\n",
    "    transformed_scripts.append(clean_transcript(script))\n",
    "\n",
    "transcript_df['transcript'] = transformed_scripts"
   ],
   "metadata": {
    "collapsed": false,
    "ExecuteTime": {
     "end_time": "2023-10-31T17:43:29.233689200Z",
     "start_time": "2023-10-31T17:43:29.202344900Z"
    }
   }
  },
  {
   "cell_type": "code",
   "execution_count": 30,
   "outputs": [
    {
     "data": {
      "text/plain": "      video_id                                         transcript\n0  Dywaz0H7U84  hello everyone welcome to tradeline in todays ...\n1  pCmJ8wsAS_w  Bollinger Bands In this video I m going to sho...\n2  TQMayZS9o1U  if you want to learn how to use the RSI indica...\n3  rf_EQvubKlk  MACD Strategy This MACD strategy I m   about t...\n4  hh3BKTFE1dc  in this video im revealing a simple and profit...",
      "text/html": "<div>\n<style scoped>\n    .dataframe tbody tr th:only-of-type {\n        vertical-align: middle;\n    }\n\n    .dataframe tbody tr th {\n        vertical-align: top;\n    }\n\n    .dataframe thead th {\n        text-align: right;\n    }\n</style>\n<table border=\"1\" class=\"dataframe\">\n  <thead>\n    <tr style=\"text-align: right;\">\n      <th></th>\n      <th>video_id</th>\n      <th>transcript</th>\n    </tr>\n  </thead>\n  <tbody>\n    <tr>\n      <th>0</th>\n      <td>Dywaz0H7U84</td>\n      <td>hello everyone welcome to tradeline in todays ...</td>\n    </tr>\n    <tr>\n      <th>1</th>\n      <td>pCmJ8wsAS_w</td>\n      <td>Bollinger Bands In this video I m going to sho...</td>\n    </tr>\n    <tr>\n      <th>2</th>\n      <td>TQMayZS9o1U</td>\n      <td>if you want to learn how to use the RSI indica...</td>\n    </tr>\n    <tr>\n      <th>3</th>\n      <td>rf_EQvubKlk</td>\n      <td>MACD Strategy This MACD strategy I m   about t...</td>\n    </tr>\n    <tr>\n      <th>4</th>\n      <td>hh3BKTFE1dc</td>\n      <td>in this video im revealing a simple and profit...</td>\n    </tr>\n  </tbody>\n</table>\n</div>"
     },
     "execution_count": 30,
     "metadata": {},
     "output_type": "execute_result"
    }
   ],
   "source": [
    "transcript_df"
   ],
   "metadata": {
    "collapsed": false,
    "ExecuteTime": {
     "end_time": "2023-10-31T17:43:43.663506600Z",
     "start_time": "2023-10-31T17:43:43.632081700Z"
    }
   }
  },
  {
   "cell_type": "code",
   "execution_count": 34,
   "outputs": [
    {
     "name": "stdout",
     "output_type": "stream",
     "text": [
      "1\n",
      "1\n",
      "1\n",
      "1\n",
      "1\n"
     ]
    }
   ],
   "source": [
    "def create_freq_table(text):\n",
    "    stop_words = set(stopwords.words(\"english\"))\n",
    "    words = word_tokenize(text)\n",
    "\n",
    "    stem = PorterStemmer()\n",
    "\n",
    "\n"
   ],
   "metadata": {
    "collapsed": false,
    "ExecuteTime": {
     "end_time": "2023-10-31T18:24:42.643437Z",
     "start_time": "2023-10-31T18:24:42.584422900Z"
    }
   }
  },
  {
   "cell_type": "code",
   "execution_count": null,
   "outputs": [],
   "source": [],
   "metadata": {
    "collapsed": false
   }
  }
 ],
 "metadata": {
  "kernelspec": {
   "display_name": "Python 3",
   "language": "python",
   "name": "python3"
  },
  "language_info": {
   "codemirror_mode": {
    "name": "ipython",
    "version": 2
   },
   "file_extension": ".py",
   "mimetype": "text/x-python",
   "name": "python",
   "nbconvert_exporter": "python",
   "pygments_lexer": "ipython2",
   "version": "2.7.6"
  }
 },
 "nbformat": 4,
 "nbformat_minor": 0
}
