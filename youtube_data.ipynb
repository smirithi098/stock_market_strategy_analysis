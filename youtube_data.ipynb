{
 "cells": [
  {
   "cell_type": "code",
   "execution_count": 13,
   "outputs": [],
   "source": [
    "from  youtube_transcript_api import YouTubeTranscriptApi as yt\n",
    "import pandas as pd"
   ],
   "metadata": {
    "collapsed": false,
    "ExecuteTime": {
     "end_time": "2023-10-28T14:54:18.137937800Z",
     "start_time": "2023-10-28T14:54:17.517537500Z"
    }
   }
  },
  {
   "cell_type": "code",
   "execution_count": 16,
   "outputs": [],
   "source": [
    "video_ids = ['Dywaz0H7U84', 'pCmJ8wsAS_w', 'TQMayZS9o1U', 'rf_EQvubKlk', 'hh3BKTFE1dc']"
   ],
   "metadata": {
    "collapsed": false,
    "ExecuteTime": {
     "end_time": "2023-10-28T15:02:54.930182700Z",
     "start_time": "2023-10-28T15:02:54.913427100Z"
    }
   }
  },
  {
   "cell_type": "code",
   "execution_count": 17,
   "outputs": [],
   "source": [
    "video_details = {'video_id': [], 'transcript': []}\n",
    "\n",
    "for i in video_ids:\n",
    "    transcript = yt.get_transcript(i)\n",
    "    video_details['video_id'].append(i)\n",
    "    final_script = ''\n",
    "\n",
    "    for t in transcript:\n",
    "        final_script += f\"{t['text']} \"\n",
    "\n",
    "    video_details['transcript'].append(final_script)"
   ],
   "metadata": {
    "collapsed": false,
    "ExecuteTime": {
     "end_time": "2023-10-28T15:02:59.441444200Z",
     "start_time": "2023-10-28T15:02:56.043308900Z"
    }
   }
  },
  {
   "cell_type": "code",
   "execution_count": 18,
   "outputs": [],
   "source": [
    "transcript_df = pd.DataFrame(data=video_details)\n",
    "transcript_df.to_csv(\"S:/Dissertation 2023/Stock market analysis/stock_market_strategy_analysis/data_files/transcript.csv\", header=True)"
   ],
   "metadata": {
    "collapsed": false,
    "ExecuteTime": {
     "end_time": "2023-10-28T15:03:30.969112800Z",
     "start_time": "2023-10-28T15:03:30.906580600Z"
    }
   }
  },
  {
   "cell_type": "code",
   "execution_count": null,
   "outputs": [],
   "source": [],
   "metadata": {
    "collapsed": false
   }
  },
  {
   "cell_type": "code",
   "execution_count": null,
   "outputs": [],
   "source": [],
   "metadata": {
    "collapsed": false
   }
  },
  {
   "cell_type": "code",
   "execution_count": null,
   "outputs": [],
   "source": [],
   "metadata": {
    "collapsed": false
   }
  },
  {
   "cell_type": "code",
   "execution_count": null,
   "outputs": [],
   "source": [],
   "metadata": {
    "collapsed": false
   }
  }
 ],
 "metadata": {
  "kernelspec": {
   "display_name": "Python 3",
   "language": "python",
   "name": "python3"
  },
  "language_info": {
   "codemirror_mode": {
    "name": "ipython",
    "version": 2
   },
   "file_extension": ".py",
   "mimetype": "text/x-python",
   "name": "python",
   "nbconvert_exporter": "python",
   "pygments_lexer": "ipython2",
   "version": "2.7.6"
  }
 },
 "nbformat": 4,
 "nbformat_minor": 0
}
