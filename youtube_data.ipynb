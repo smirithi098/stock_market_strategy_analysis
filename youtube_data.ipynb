{
 "cells": [
  {
   "cell_type": "code",
   "execution_count": 1,
   "outputs": [],
   "source": [
    "from  youtube_transcript_api import YouTubeTranscriptApi as yt\n",
    "import pandas as pd"
   ],
   "metadata": {
    "collapsed": false,
    "ExecuteTime": {
     "end_time": "2023-11-02T15:35:51.464769600Z",
     "start_time": "2023-11-02T15:35:49.318551400Z"
    }
   }
  },
  {
   "cell_type": "code",
   "execution_count": 2,
   "outputs": [],
   "source": [
    "video_ids = ['Dywaz0H7U84', 'pCmJ8wsAS_w', 'TQMayZS9o1U', 'rf_EQvubKlk', 'hh3BKTFE1dc']"
   ],
   "metadata": {
    "collapsed": false,
    "ExecuteTime": {
     "end_time": "2023-11-02T15:35:54.737946200Z",
     "start_time": "2023-11-02T15:35:54.706591300Z"
    }
   }
  },
  {
   "cell_type": "code",
   "execution_count": 3,
   "outputs": [],
   "source": [
    "video_details = {'video_id': [], 'transcript': []}\n",
    "\n",
    "for i in video_ids:\n",
    "    transcript = yt.get_transcript(i)\n",
    "    video_details['video_id'].append(i)\n",
    "    final_script = ''\n",
    "\n",
    "    for t in transcript:\n",
    "        final_script += f\"{t['text']} \"\n",
    "\n",
    "    video_details['transcript'].append(final_script)"
   ],
   "metadata": {
    "collapsed": false,
    "ExecuteTime": {
     "end_time": "2023-11-02T15:36:00.287925100Z",
     "start_time": "2023-11-02T15:35:56.971348700Z"
    }
   }
  },
  {
   "cell_type": "code",
   "execution_count": 4,
   "outputs": [],
   "source": [
    "transcript_df = pd.DataFrame(data=video_details)"
   ],
   "metadata": {
    "collapsed": false,
    "ExecuteTime": {
     "end_time": "2023-11-02T15:36:02.004410500Z",
     "start_time": "2023-11-02T15:36:01.989743200Z"
    }
   }
  },
  {
   "cell_type": "code",
   "execution_count": null,
   "outputs": [],
   "source": [
    "transcript_df.to_csv(\"S:/Dissertation 2023/Stock market analysis/stock_market_strategy_analysis/data_files/transcript.csv\", header=True)"
   ],
   "metadata": {
    "collapsed": false
   }
  },
  {
   "cell_type": "code",
   "execution_count": 6,
   "outputs": [
    {
     "data": {
      "text/plain": "      video_id                                         transcript\n0  Dywaz0H7U84  hello everyone welcome to tradeline in today's...\n1  pCmJ8wsAS_w  Bollinger Bands\\nIn this video, I m going to s...\n2  TQMayZS9o1U  if you want to learn how to use the RSI indica...\n3  rf_EQvubKlk  MACD Strategy\\nThis MACD strategy I m   about ...\n4  hh3BKTFE1dc  in this video i'm revealing a simple and profi...",
      "text/html": "<div>\n<style scoped>\n    .dataframe tbody tr th:only-of-type {\n        vertical-align: middle;\n    }\n\n    .dataframe tbody tr th {\n        vertical-align: top;\n    }\n\n    .dataframe thead th {\n        text-align: right;\n    }\n</style>\n<table border=\"1\" class=\"dataframe\">\n  <thead>\n    <tr style=\"text-align: right;\">\n      <th></th>\n      <th>video_id</th>\n      <th>transcript</th>\n    </tr>\n  </thead>\n  <tbody>\n    <tr>\n      <th>0</th>\n      <td>Dywaz0H7U84</td>\n      <td>hello everyone welcome to tradeline in today's...</td>\n    </tr>\n    <tr>\n      <th>1</th>\n      <td>pCmJ8wsAS_w</td>\n      <td>Bollinger Bands\\nIn this video, I m going to s...</td>\n    </tr>\n    <tr>\n      <th>2</th>\n      <td>TQMayZS9o1U</td>\n      <td>if you want to learn how to use the RSI indica...</td>\n    </tr>\n    <tr>\n      <th>3</th>\n      <td>rf_EQvubKlk</td>\n      <td>MACD Strategy\\nThis MACD strategy I m   about ...</td>\n    </tr>\n    <tr>\n      <th>4</th>\n      <td>hh3BKTFE1dc</td>\n      <td>in this video i'm revealing a simple and profi...</td>\n    </tr>\n  </tbody>\n</table>\n</div>"
     },
     "execution_count": 6,
     "metadata": {},
     "output_type": "execute_result"
    }
   ],
   "source": [
    "transcript_df.head()"
   ],
   "metadata": {
    "collapsed": false,
    "ExecuteTime": {
     "end_time": "2023-11-01T17:09:06.663284400Z",
     "start_time": "2023-11-01T17:09:06.590851800Z"
    }
   }
  }
 ],
 "metadata": {
  "kernelspec": {
   "display_name": "Python 3",
   "language": "python",
   "name": "python3"
  },
  "language_info": {
   "codemirror_mode": {
    "name": "ipython",
    "version": 2
   },
   "file_extension": ".py",
   "mimetype": "text/x-python",
   "name": "python",
   "nbconvert_exporter": "python",
   "pygments_lexer": "ipython2",
   "version": "2.7.6"
  }
 },
 "nbformat": 4,
 "nbformat_minor": 0
}
