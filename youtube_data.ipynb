{
 "cells": [
  {
   "cell_type": "code",
   "execution_count": 12,
   "outputs": [],
   "source": [
    "from  youtube_transcript_api import YouTubeTranscriptApi as yt\n",
    "\n",
    "import string\n",
    "import re\n",
    "\n",
    "import numpy as np\n",
    "import pandas as pd\n",
    "\n",
    "from nltk.corpus import stopwords\n",
    "from nltk import sent_tokenize, word_tokenize, PorterStemmer"
   ],
   "metadata": {
    "collapsed": false,
    "ExecuteTime": {
     "end_time": "2023-11-01T17:41:09.424220200Z",
     "start_time": "2023-11-01T17:41:09.396504200Z"
    }
   }
  },
  {
   "cell_type": "code",
   "execution_count": 3,
   "outputs": [],
   "source": [
    "video_ids = ['Dywaz0H7U84', 'pCmJ8wsAS_w', 'TQMayZS9o1U', 'rf_EQvubKlk', 'hh3BKTFE1dc']"
   ],
   "metadata": {
    "collapsed": false,
    "ExecuteTime": {
     "end_time": "2023-11-01T17:08:58.097166500Z",
     "start_time": "2023-11-01T17:08:58.081523500Z"
    }
   }
  },
  {
   "cell_type": "code",
   "execution_count": 4,
   "outputs": [],
   "source": [
    "video_details = {'video_id': [], 'transcript': []}\n",
    "\n",
    "for i in video_ids:\n",
    "    transcript = yt.get_transcript(i)\n",
    "    video_details['video_id'].append(i)\n",
    "    final_script = ''\n",
    "\n",
    "    for t in transcript:\n",
    "        final_script += f\"{t['text']} \"\n",
    "\n",
    "    video_details['transcript'].append(final_script)"
   ],
   "metadata": {
    "collapsed": false,
    "ExecuteTime": {
     "end_time": "2023-11-01T17:09:03.166428700Z",
     "start_time": "2023-11-01T17:08:59.521638Z"
    }
   }
  },
  {
   "cell_type": "code",
   "execution_count": 5,
   "outputs": [],
   "source": [
    "transcript_df = pd.DataFrame(data=video_details)"
   ],
   "metadata": {
    "collapsed": false,
    "ExecuteTime": {
     "end_time": "2023-11-01T17:09:03.885157Z",
     "start_time": "2023-11-01T17:09:03.869491500Z"
    }
   }
  },
  {
   "cell_type": "code",
   "execution_count": null,
   "outputs": [],
   "source": [
    "transcript_df.to_csv(\"S:/Dissertation 2023/Stock market analysis/stock_market_strategy_analysis/data_files/transcript.csv\", header=True)"
   ],
   "metadata": {
    "collapsed": false
   }
  },
  {
   "cell_type": "code",
   "execution_count": 6,
   "outputs": [
    {
     "data": {
      "text/plain": "      video_id                                         transcript\n0  Dywaz0H7U84  hello everyone welcome to tradeline in today's...\n1  pCmJ8wsAS_w  Bollinger Bands\\nIn this video, I m going to s...\n2  TQMayZS9o1U  if you want to learn how to use the RSI indica...\n3  rf_EQvubKlk  MACD Strategy\\nThis MACD strategy I m   about ...\n4  hh3BKTFE1dc  in this video i'm revealing a simple and profi...",
      "text/html": "<div>\n<style scoped>\n    .dataframe tbody tr th:only-of-type {\n        vertical-align: middle;\n    }\n\n    .dataframe tbody tr th {\n        vertical-align: top;\n    }\n\n    .dataframe thead th {\n        text-align: right;\n    }\n</style>\n<table border=\"1\" class=\"dataframe\">\n  <thead>\n    <tr style=\"text-align: right;\">\n      <th></th>\n      <th>video_id</th>\n      <th>transcript</th>\n    </tr>\n  </thead>\n  <tbody>\n    <tr>\n      <th>0</th>\n      <td>Dywaz0H7U84</td>\n      <td>hello everyone welcome to tradeline in today's...</td>\n    </tr>\n    <tr>\n      <th>1</th>\n      <td>pCmJ8wsAS_w</td>\n      <td>Bollinger Bands\\nIn this video, I m going to s...</td>\n    </tr>\n    <tr>\n      <th>2</th>\n      <td>TQMayZS9o1U</td>\n      <td>if you want to learn how to use the RSI indica...</td>\n    </tr>\n    <tr>\n      <th>3</th>\n      <td>rf_EQvubKlk</td>\n      <td>MACD Strategy\\nThis MACD strategy I m   about ...</td>\n    </tr>\n    <tr>\n      <th>4</th>\n      <td>hh3BKTFE1dc</td>\n      <td>in this video i'm revealing a simple and profi...</td>\n    </tr>\n  </tbody>\n</table>\n</div>"
     },
     "execution_count": 6,
     "metadata": {},
     "output_type": "execute_result"
    }
   ],
   "source": [
    "transcript_df.head()"
   ],
   "metadata": {
    "collapsed": false,
    "ExecuteTime": {
     "end_time": "2023-11-01T17:09:06.663284400Z",
     "start_time": "2023-11-01T17:09:06.590851800Z"
    }
   }
  },
  {
   "cell_type": "code",
   "execution_count": 7,
   "outputs": [],
   "source": [
    "def clean_transcript(text):\n",
    "    text = re.sub(r'(\\xa0|\\n)', ' ', text)\n",
    "    return text"
   ],
   "metadata": {
    "collapsed": false,
    "ExecuteTime": {
     "end_time": "2023-11-01T17:09:09.156836400Z",
     "start_time": "2023-11-01T17:09:09.137405400Z"
    }
   }
  },
  {
   "cell_type": "code",
   "execution_count": 9,
   "outputs": [],
   "source": [
    "transformed_scripts = []\n",
    "for script in transcript_df['transcript']:\n",
    "    transformed_scripts.append(clean_transcript(script))\n",
    "\n",
    "transcript_df['transcript'] = transformed_scripts"
   ],
   "metadata": {
    "collapsed": false,
    "ExecuteTime": {
     "end_time": "2023-11-01T17:12:56.656498300Z",
     "start_time": "2023-11-01T17:12:56.627761Z"
    }
   }
  },
  {
   "cell_type": "code",
   "execution_count": 8,
   "outputs": [
    {
     "data": {
      "text/plain": "      video_id                                         transcript\n0  Dywaz0H7U84  hello everyone welcome to tradeline in today's...\n1  pCmJ8wsAS_w  Bollinger Bands In this video, I m going to sh...\n2  TQMayZS9o1U  if you want to learn how to use the RSI indica...\n3  rf_EQvubKlk  MACD Strategy This MACD strategy I m   about t...\n4  hh3BKTFE1dc  in this video i'm revealing a simple and profi...",
      "text/html": "<div>\n<style scoped>\n    .dataframe tbody tr th:only-of-type {\n        vertical-align: middle;\n    }\n\n    .dataframe tbody tr th {\n        vertical-align: top;\n    }\n\n    .dataframe thead th {\n        text-align: right;\n    }\n</style>\n<table border=\"1\" class=\"dataframe\">\n  <thead>\n    <tr style=\"text-align: right;\">\n      <th></th>\n      <th>video_id</th>\n      <th>transcript</th>\n    </tr>\n  </thead>\n  <tbody>\n    <tr>\n      <th>0</th>\n      <td>Dywaz0H7U84</td>\n      <td>hello everyone welcome to tradeline in today's...</td>\n    </tr>\n    <tr>\n      <th>1</th>\n      <td>pCmJ8wsAS_w</td>\n      <td>Bollinger Bands In this video, I m going to sh...</td>\n    </tr>\n    <tr>\n      <th>2</th>\n      <td>TQMayZS9o1U</td>\n      <td>if you want to learn how to use the RSI indica...</td>\n    </tr>\n    <tr>\n      <th>3</th>\n      <td>rf_EQvubKlk</td>\n      <td>MACD Strategy This MACD strategy I m   about t...</td>\n    </tr>\n    <tr>\n      <th>4</th>\n      <td>hh3BKTFE1dc</td>\n      <td>in this video i'm revealing a simple and profi...</td>\n    </tr>\n  </tbody>\n</table>\n</div>"
     },
     "execution_count": 8,
     "metadata": {},
     "output_type": "execute_result"
    }
   ],
   "source": [
    "transcript_df"
   ],
   "metadata": {
    "collapsed": false,
    "ExecuteTime": {
     "end_time": "2023-11-01T06:37:34.787399200Z",
     "start_time": "2023-11-01T06:37:34.750562100Z"
    }
   }
  },
  {
   "cell_type": "code",
   "execution_count": 24,
   "outputs": [],
   "source": [
    "def create_freq_table(text, upper_thresh, lower_thresh):\n",
    "    # get the stop words for english language\n",
    "    stop_words = set(stopwords.words(\"english\"))\n",
    "\n",
    "    # separate the text into individual words\n",
    "    words = word_tokenize(text)\n",
    "\n",
    "    # initialize the object for stemmer class\n",
    "    stemmer = PorterStemmer()\n",
    "\n",
    "    # empty dictionary to store the word count of every word in the text\n",
    "    frequency_table = {}\n",
    "\n",
    "    \"\"\"Stem the words and check if they are in the stop words. If not, increase the count of that word in the frequency table\"\"\"\n",
    "    for w in words:\n",
    "        w = stemmer.stem(w)\n",
    "\n",
    "        if w in stop_words:\n",
    "            continue\n",
    "        if w in frequency_table:\n",
    "            frequency_table[w] += 1\n",
    "        else:\n",
    "            frequency_table[w] = 1\n",
    "\n",
    "    # get the maximum frequency value from the entire text\n",
    "    max_frequency = float(max(frequency_table.values()))\n",
    "\n",
    "    freq_copy = frequency_table.copy()\n",
    "\n",
    "    for key in freq_copy.keys():\n",
    "        frequency_table[key] = frequency_table[key]/max_frequency\n",
    "\n",
    "        if frequency_table[key] >= upper_thresh or frequency_table[key] <= lower_thresh:\n",
    "            del frequency_table[key]\n",
    "\n",
    "    return frequency_table"
   ],
   "metadata": {
    "collapsed": false,
    "ExecuteTime": {
     "end_time": "2023-11-01T07:42:58.905484400Z",
     "start_time": "2023-11-01T07:42:58.889809200Z"
    }
   }
  },
  {
   "cell_type": "code",
   "execution_count": 15,
   "outputs": [
    {
     "name": "stdout",
     "output_type": "stream",
     "text": [
      "{'hello': 1, 'everyon': 1, 'welcom': 1, 'tradelin': 1, 'today': 2, \"'s\": 12, 'video': 8, 'want': 3, 'share': 1, 'simpl': 2, 'veri': 1, 'profit': 2, 'strategi': 4, 'use': 7, 'combin': 1, 'three': 2, 'popular': 1, 'free': 1, 'indic': 17, 'order': 4, 'success': 2, 'must': 8, 'consid': 1, 'sever': 1, 'import': 1, 'factor': 1, 'explain': 1, 'thi': 15, 'sure': 4, 'watch': 2, 'full': 1, 'make': 3, \"n't\": 2, 'miss': 2, 'anyth': 1, 'befor': 1, 'go': 8, 'ani': 4, 'show': 1, 'us': 3, 'support': 1, 'help': 2, 'produc': 1, 'lot': 2, 'new': 2, 'content': 1, 'hit': 1, 'subscrib': 2, 'button': 1, 'notif': 1, 'bell': 1, 'onli': 2, 'two': 2, 'click': 3, 'mean': 1, 'addit': 1, 'would': 3, 'like': 3, 'point': 1, 'appli': 1, 'wide': 1, 'rang': 2, 'asset': 1, 'class': 1, 'includ': 1, 'fork': 1, 'stock': 1, 'crypto': 1, 'time': 1, 'frame': 1, 'without': 1, 'ado': 1, 'let': 7, 'get': 1, 'start': 2, 'usual': 1, 'tradingu.com': 1, 'technic': 1, 'analysi': 1, \"'re\": 2, 'set': 10, 'alright': 1, 'add': 6, 'chart': 6, 'menu': 2, 'top': 1, 'search': 3, 'type': 3, 'first': 4, 'name': 1, 'stochast': 10, 'rsi': 12, 'one': 2, 'cycl': 1, 'overbought': 2, 'level': 10, 'abov': 7, '80': 5, 'oversold': 2, '20.': 1, 'reach': 1, 'much': 1, 'frequent': 1, 'result': 1, 'provid': 1, 'trade': 9, 'opportun': 1, 'move': 13, 'within': 1, '0': 1, '100.': 1, 'work': 1, 'buy': 3, 'signal': 7, 'gener': 2, 'fall': 1, '20': 3, 'back': 1, 'convers': 1, 'sell': 2, 'rise': 1, 'cross': 6, 'downsid': 4, 'cours': 1, 'longer': 1, 'term': 1, 'trend': 3, 'filter': 1, 'ensur': 2, 'take': 1, 'direct': 2, 'exponenti': 1, 'averag': 11, 'right': 1, 'em': 2, 'box': 2, 'emo': 1, 'chang': 5, 'length': 2, '9': 2, '50.': 1, 'style': 2, 'section': 2, \"'m\": 2, 'littl': 1, 'thicker': 1, 'see': 3, 'clearli': 1, 'anoth': 2, 'emma': 2, 'also': 4, '100': 5, 'yellow': 1, 'choos': 1, 'color': 1, 'place': 1, 'rule': 6, 'enter': 8, 'short': 6, 'posit': 3, 'condit': 2, '50': 13, 'period': 10, 'moreov': 2, 'slope': 4, 'downward': 3, 'second': 2, 'final': 2, 'price': 5, 'action': 2, 'close': 5, 'met': 5, 'candl': 13, 'open': 8, 'next': 6, 'stop': 5, 'loss': 5, 'either': 2, 'line': 2, 'recent': 8, 'swing': 8, 'high': 4, 'depend': 2, 'closest': 2, 'entri': 2, 'target': 5, 'low': 4, 'look': 2, 'exampl': 2, 'understand': 2, 'yen': 1, 'ema': 9, 'cell': 2, 'long': 4, 'exact': 1, 'opposit': 1, 'upward': 1, 'upsid': 2, 'noth': 1, 'taken': 1, 'financi': 1, 'advic': 1, 'pure': 1, 'inform': 1, 'purpos': 1, 'thank': 1, 'guy': 1, 'channel': 1, \"'ll\": 1}\n"
     ]
    }
   ],
   "source": [
    "print(create_freq_table(transformed_scripts[0]))"
   ],
   "metadata": {
    "collapsed": false,
    "ExecuteTime": {
     "end_time": "2023-11-01T07:12:40.747976600Z",
     "start_time": "2023-11-01T07:12:40.732360100Z"
    }
   }
  },
  {
   "cell_type": "code",
   "execution_count": 25,
   "outputs": [
    {
     "name": "stdout",
     "output_type": "stream",
     "text": [
      "{'today': 0.11764705882352941, 'video': 0.47058823529411764, 'want': 0.17647058823529413, 'simpl': 0.11764705882352941, 'profit': 0.11764705882352941, 'strategi': 0.23529411764705882, 'use': 0.4117647058823529, 'three': 0.11764705882352941, 'order': 0.23529411764705882, 'success': 0.11764705882352941, 'must': 0.47058823529411764, 'sure': 0.23529411764705882, 'watch': 0.11764705882352941, 'make': 0.17647058823529413, \"n't\": 0.11764705882352941, 'miss': 0.11764705882352941, 'go': 0.47058823529411764, 'ani': 0.23529411764705882, 'us': 0.17647058823529413, 'help': 0.11764705882352941, 'lot': 0.11764705882352941, 'new': 0.11764705882352941, 'subscrib': 0.11764705882352941, 'onli': 0.11764705882352941, 'two': 0.11764705882352941, 'click': 0.17647058823529413, 'would': 0.17647058823529413, 'like': 0.17647058823529413, 'rang': 0.11764705882352941, 'let': 0.4117647058823529, 'start': 0.11764705882352941, \"'re\": 0.11764705882352941, 'set': 0.5882352941176471, 'add': 0.35294117647058826, 'chart': 0.35294117647058826, 'menu': 0.11764705882352941, 'search': 0.17647058823529413, 'type': 0.17647058823529413, 'first': 0.23529411764705882, 'stochast': 0.5882352941176471, 'one': 0.11764705882352941, 'overbought': 0.11764705882352941, 'level': 0.5882352941176471, 'abov': 0.4117647058823529, '80': 0.29411764705882354, 'oversold': 0.11764705882352941, 'trade': 0.5294117647058824, 'buy': 0.17647058823529413, 'signal': 0.4117647058823529, 'gener': 0.11764705882352941, '20': 0.17647058823529413, 'sell': 0.11764705882352941, 'cross': 0.35294117647058826, 'downsid': 0.23529411764705882, 'trend': 0.17647058823529413, 'ensur': 0.11764705882352941, 'direct': 0.11764705882352941, 'averag': 0.6470588235294118, 'em': 0.11764705882352941, 'box': 0.11764705882352941, 'chang': 0.29411764705882354, 'length': 0.11764705882352941, '9': 0.11764705882352941, 'style': 0.11764705882352941, 'section': 0.11764705882352941, \"'m\": 0.11764705882352941, 'see': 0.17647058823529413, 'anoth': 0.11764705882352941, 'emma': 0.11764705882352941, 'also': 0.23529411764705882, '100': 0.29411764705882354, 'rule': 0.35294117647058826, 'enter': 0.47058823529411764, 'short': 0.35294117647058826, 'posit': 0.17647058823529413, 'condit': 0.11764705882352941, 'period': 0.5882352941176471, 'moreov': 0.11764705882352941, 'slope': 0.23529411764705882, 'downward': 0.17647058823529413, 'second': 0.11764705882352941, 'final': 0.11764705882352941, 'price': 0.29411764705882354, 'action': 0.11764705882352941, 'close': 0.29411764705882354, 'met': 0.29411764705882354, 'open': 0.47058823529411764, 'next': 0.35294117647058826, 'stop': 0.29411764705882354, 'loss': 0.29411764705882354, 'either': 0.11764705882352941, 'line': 0.11764705882352941, 'recent': 0.47058823529411764, 'swing': 0.47058823529411764, 'high': 0.23529411764705882, 'depend': 0.11764705882352941, 'closest': 0.11764705882352941, 'entri': 0.11764705882352941, 'target': 0.29411764705882354, 'low': 0.23529411764705882, 'look': 0.11764705882352941, 'exampl': 0.11764705882352941, 'understand': 0.11764705882352941, 'ema': 0.5294117647058824, 'cell': 0.11764705882352941, 'long': 0.23529411764705882, 'upsid': 0.11764705882352941}\n"
     ]
    }
   ],
   "source": [
    "print(create_freq_table(transformed_scripts[0], 0.7, 0.1))"
   ],
   "metadata": {
    "collapsed": false,
    "ExecuteTime": {
     "end_time": "2023-11-01T07:43:01.815057900Z",
     "start_time": "2023-11-01T07:43:01.752394800Z"
    }
   }
  },
  {
   "cell_type": "code",
   "execution_count": 30,
   "outputs": [],
   "source": [
    "from heapq import nlargest\n",
    "\n",
    "def create_summary(text, n):\n",
    "    sentences = sent_tokenize(text)\n",
    "\n",
    "    words = word_tokenize(sentences[0])\n",
    "\n",
    "    frequency = create_freq_table(text, 0.7, 0.1)\n",
    "    print(frequency)\n",
    "    rank = {}\n",
    "\n",
    "    for word in words:\n",
    "        if word in frequency:\n",
    "            rank[word] += frequency[word]\n",
    "        else:\n",
    "            rank[word] = frequency[word]\n",
    "\n",
    "    word_ids = get_ranking(rank, n)\n",
    "    print(word_ids)\n",
    "\n",
    "def get_ranking(text_rank, num):\n",
    "    return nlargest(num, text_rank, key=text_rank.get)"
   ],
   "metadata": {
    "collapsed": false,
    "ExecuteTime": {
     "end_time": "2023-11-01T08:14:48.702435200Z",
     "start_time": "2023-11-01T08:14:48.686781100Z"
    }
   }
  },
  {
   "cell_type": "code",
   "execution_count": 31,
   "outputs": [
    {
     "name": "stdout",
     "output_type": "stream",
     "text": [
      "{'today': 0.11764705882352941, 'video': 0.47058823529411764, 'want': 0.17647058823529413, 'simpl': 0.11764705882352941, 'profit': 0.11764705882352941, 'strategi': 0.23529411764705882, 'use': 0.4117647058823529, 'three': 0.11764705882352941, 'order': 0.23529411764705882, 'success': 0.11764705882352941, 'must': 0.47058823529411764, 'sure': 0.23529411764705882, 'watch': 0.11764705882352941, 'make': 0.17647058823529413, \"n't\": 0.11764705882352941, 'miss': 0.11764705882352941, 'go': 0.47058823529411764, 'ani': 0.23529411764705882, 'us': 0.17647058823529413, 'help': 0.11764705882352941, 'lot': 0.11764705882352941, 'new': 0.11764705882352941, 'subscrib': 0.11764705882352941, 'onli': 0.11764705882352941, 'two': 0.11764705882352941, 'click': 0.17647058823529413, 'would': 0.17647058823529413, 'like': 0.17647058823529413, 'rang': 0.11764705882352941, 'let': 0.4117647058823529, 'start': 0.11764705882352941, \"'re\": 0.11764705882352941, 'set': 0.5882352941176471, 'add': 0.35294117647058826, 'chart': 0.35294117647058826, 'menu': 0.11764705882352941, 'search': 0.17647058823529413, 'type': 0.17647058823529413, 'first': 0.23529411764705882, 'stochast': 0.5882352941176471, 'one': 0.11764705882352941, 'overbought': 0.11764705882352941, 'level': 0.5882352941176471, 'abov': 0.4117647058823529, '80': 0.29411764705882354, 'oversold': 0.11764705882352941, 'trade': 0.5294117647058824, 'buy': 0.17647058823529413, 'signal': 0.4117647058823529, 'gener': 0.11764705882352941, '20': 0.17647058823529413, 'sell': 0.11764705882352941, 'cross': 0.35294117647058826, 'downsid': 0.23529411764705882, 'trend': 0.17647058823529413, 'ensur': 0.11764705882352941, 'direct': 0.11764705882352941, 'averag': 0.6470588235294118, 'em': 0.11764705882352941, 'box': 0.11764705882352941, 'chang': 0.29411764705882354, 'length': 0.11764705882352941, '9': 0.11764705882352941, 'style': 0.11764705882352941, 'section': 0.11764705882352941, \"'m\": 0.11764705882352941, 'see': 0.17647058823529413, 'anoth': 0.11764705882352941, 'emma': 0.11764705882352941, 'also': 0.23529411764705882, '100': 0.29411764705882354, 'rule': 0.35294117647058826, 'enter': 0.47058823529411764, 'short': 0.35294117647058826, 'posit': 0.17647058823529413, 'condit': 0.11764705882352941, 'period': 0.5882352941176471, 'moreov': 0.11764705882352941, 'slope': 0.23529411764705882, 'downward': 0.17647058823529413, 'second': 0.11764705882352941, 'final': 0.11764705882352941, 'price': 0.29411764705882354, 'action': 0.11764705882352941, 'close': 0.29411764705882354, 'met': 0.29411764705882354, 'open': 0.47058823529411764, 'next': 0.35294117647058826, 'stop': 0.29411764705882354, 'loss': 0.29411764705882354, 'either': 0.11764705882352941, 'line': 0.11764705882352941, 'recent': 0.47058823529411764, 'swing': 0.47058823529411764, 'high': 0.23529411764705882, 'depend': 0.11764705882352941, 'closest': 0.11764705882352941, 'entri': 0.11764705882352941, 'target': 0.29411764705882354, 'low': 0.23529411764705882, 'look': 0.11764705882352941, 'exampl': 0.11764705882352941, 'understand': 0.11764705882352941, 'ema': 0.5294117647058824, 'cell': 0.11764705882352941, 'long': 0.23529411764705882, 'upsid': 0.11764705882352941}\n"
     ]
    },
    {
     "ename": "KeyError",
     "evalue": "'hello'",
     "output_type": "error",
     "traceback": [
      "\u001B[1;31m---------------------------------------------------------------------------\u001B[0m",
      "\u001B[1;31mKeyError\u001B[0m                                  Traceback (most recent call last)",
      "Cell \u001B[1;32mIn[31], line 1\u001B[0m\n\u001B[1;32m----> 1\u001B[0m \u001B[43mcreate_summary\u001B[49m\u001B[43m(\u001B[49m\u001B[43mtransformed_scripts\u001B[49m\u001B[43m[\u001B[49m\u001B[38;5;241;43m0\u001B[39;49m\u001B[43m]\u001B[49m\u001B[43m,\u001B[49m\u001B[43m \u001B[49m\u001B[38;5;241;43m50\u001B[39;49m\u001B[43m)\u001B[49m\n",
      "Cell \u001B[1;32mIn[30], line 16\u001B[0m, in \u001B[0;36mcreate_summary\u001B[1;34m(text, n)\u001B[0m\n\u001B[0;32m     14\u001B[0m         rank[word] \u001B[38;5;241m+\u001B[39m\u001B[38;5;241m=\u001B[39m frequency[word]\n\u001B[0;32m     15\u001B[0m     \u001B[38;5;28;01melse\u001B[39;00m:\n\u001B[1;32m---> 16\u001B[0m         rank[word] \u001B[38;5;241m=\u001B[39m \u001B[43mfrequency\u001B[49m\u001B[43m[\u001B[49m\u001B[43mword\u001B[49m\u001B[43m]\u001B[49m\n\u001B[0;32m     18\u001B[0m word_ids \u001B[38;5;241m=\u001B[39m get_ranking(rank, n)\n\u001B[0;32m     19\u001B[0m \u001B[38;5;28mprint\u001B[39m(word_ids)\n",
      "\u001B[1;31mKeyError\u001B[0m: 'hello'"
     ]
    }
   ],
   "source": [
    "create_summary(transformed_scripts[0], 50)"
   ],
   "metadata": {
    "collapsed": false,
    "ExecuteTime": {
     "end_time": "2023-11-01T08:14:49.976376600Z",
     "start_time": "2023-11-01T08:14:49.929466400Z"
    }
   }
  },
  {
   "cell_type": "code",
   "execution_count": null,
   "outputs": [],
   "source": [],
   "metadata": {
    "collapsed": false
   }
  }
 ],
 "metadata": {
  "kernelspec": {
   "display_name": "Python 3",
   "language": "python",
   "name": "python3"
  },
  "language_info": {
   "codemirror_mode": {
    "name": "ipython",
    "version": 2
   },
   "file_extension": ".py",
   "mimetype": "text/x-python",
   "name": "python",
   "nbconvert_exporter": "python",
   "pygments_lexer": "ipython2",
   "version": "2.7.6"
  }
 },
 "nbformat": 4,
 "nbformat_minor": 0
}
